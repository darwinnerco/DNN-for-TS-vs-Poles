{
 "cells": [
  {
   "cell_type": "markdown",
   "id": "09973753-e0e2-4106-b011-5927f2696575",
   "metadata": {},
   "source": [
    "## Module for Triangle Singularity\n",
    "\n",
    "In this module, we compile all functions needed to generate line shapes from different triangle loops. There is no need to run this notebook. The actual data generation shall be performed separately per triangle loop in their respective notebooks. Check the ```gendataset00_A_TS``` notebook, and others."
   ]
  },
  {
   "cell_type": "code",
   "execution_count": null,
   "id": "acbc034d-e3ff-4edd-89ac-928befd95def",
   "metadata": {},
   "outputs": [],
   "source": [
    "import numpy as np\n",
    "import cmath as cm\n",
    "import random\n",
    "from scipy.integrate import quad"
   ]
  },
  {
   "cell_type": "markdown",
   "id": "d7c83cb9-8a80-4fdd-9a33-5ee97eb1c5b0",
   "metadata": {},
   "source": [
    "### Define functions\n",
    "\n",
    "We create a function ```gen_Eaxis()``` that can randomly generate energy points representative of each energy bin from the experimental data."
   ]
  },
  {
   "cell_type": "code",
   "execution_count": null,
   "id": "98bd35c7-29dd-47d7-85d6-09ed2f56e860",
   "metadata": {},
   "outputs": [],
   "source": [
    "# Input experimental data\n",
    "LHCb_data = np.loadtxt('LHCb_Data.csv', skiprows=1, delimiter=',')\n",
    "invmass = LHCb_data[:, 0]\n",
    "invmass_low = LHCb_data[:, 1]\n",
    "invmass_high = LHCb_data[:, 2]\n",
    "weighted_candidates = LHCb_data[:, 3]\n",
    "upper_err = LHCb_data[:, 4]\n",
    "lower_err = LHCb_data[:, 5]\n",
    "\n",
    "# Randomly generate energy points\n",
    "def gen_Eaxis():\n",
    "    x_data = []\n",
    "    \n",
    "    for i in range(len(invmass)):\n",
    "        x_val = random.uniform(invmass_low[i],invmass_high[i])\n",
    "        x_data.append(x_val)\n",
    "    \n",
    "    return x_data\n",
    "\n",
    "# Define energy region of interest\n",
    "energy_low = 4200.0\n",
    "energy_high = 4350.0"
   ]
  },
  {
   "cell_type": "markdown",
   "id": "6dd0d272-87e4-4765-bf2e-66b7c9575ba9",
   "metadata": {},
   "source": [
    "To generate the amplitude of a Triangle Singularity, we evaluate this integral\n",
    "\\begin{equation}\n",
    "I(m_{23})=\\frac{1}{8m_1m_2m_3(2\\pi)^2}\\int_0^\\infty dq \\dfrac{q^2}{P^0 -\\omega_1(q)-\\omega_2(q)+i\\epsilon} f(q)\n",
    "\\end{equation}\n",
    "\n",
    "where\n",
    "\\begin{equation}\n",
    "f(q)=\\frac{1}{qk}\\left[(u_+-u_-)-(E_{23}-\\omega_2+i\\epsilon)\\ln\\left(\\frac{u_+}{u_-}\\right)\\right]\n",
    "\\end{equation}\n",
    "\\begin{equation}\n",
    "u_{\\pm} = E_{23}-\\omega_2-\\sqrt{m_3^2+q^2+k^2\\pm 2qk} +i\\epsilon\n",
    "\\end{equation}\n",
    "\n",
    "The ```triangle()``` function calculates this integral and outputs the modulus square $|I|^2$.\n",
    "\n",
    "We also include a form factor to the integral in the form of $$\\left(\\dfrac{\\Lambda^2}{\\Lambda^2+q^2}\\right)^4$$\n",
    "where $\\Lambda$ is some cut-off parameter."
   ]
  },
  {
   "cell_type": "code",
   "execution_count": null,
   "id": "9017aa35-f73b-46b5-a622-a1cf2bc4622e",
   "metadata": {},
   "outputs": [],
   "source": [
    "# The function accepts inputs of hadron masses, decay parameters, and the invariant mass energy points\n",
    "def triangle(x_data,ma,mb,m1,m2,m3,Lambda,epsilon): \n",
    "    \n",
    "    def E23(mc):\n",
    "        return ma-(ma**2.0+mb**2.0-mc**2.0)/(2*ma)\n",
    "    def ω1(q):\n",
    "        return cm.sqrt(m1**2.0 + q**2.0)\n",
    "    def ω2(q):\n",
    "        return cm.sqrt(m2**2.0 + q**2.0)\n",
    "    def k(mc):\n",
    "        return cm.sqrt(ma**4.0 + mb**4.0 + mc**4.0 -2.0*(ma*mb)**2.0-2.0*(mb*mc)**2.0-2.0*(ma*mc)**2.0)/(2.0*ma)\n",
    "    def uplus(q,mc):\n",
    "        return E23(mc)-ω2(q) - cm.sqrt(m3**2.0+q**2.0+k(mc)**2.0 + 2*q*k(mc)) +(1j)*epsilon\n",
    "    def umnus(q,mc):\n",
    "        return E23(mc)-ω2(q) - cm.sqrt(m3**2.0+q**2.0+k(mc)**2.0 - 2*q*k(mc)) +(1j)*epsilon\n",
    "    def formf(q,Lambda): # include a form factor\n",
    "        return Lambda**2.0/(Lambda**2.0+q**2.0)\n",
    "\n",
    "    IReal_mc = []\n",
    "    IImag_mc = []\n",
    "\n",
    "    # Evaluates the integral over the invariant mass of the final state\n",
    "    for mc in x_data:\n",
    "        def RealInt(q):\n",
    "            fq = (uplus(q,mc)-umnus(q,mc)-(E23(mc)- ω2(q)+(1j)*epsilon)*cm.log(uplus(q,mc)/umnus(q,mc)))/(q*k(mc))\n",
    "            Integrand = (q**2.0/(ma-ω1(q)-ω2(q) +(1j)*epsilon))*fq*formf(q,Lambda)**4.0\n",
    "            return 2.0*np.pi*Integrand.real\n",
    "\n",
    "        def ImagInt(q):\n",
    "            fq = (uplus(q,mc)-umnus(q,mc)-(E23(mc)- ω2(q)+(1j)*epsilon)*cm.log(uplus(q,mc)/umnus(q,mc)))/(q*k(mc))\n",
    "            Integrand = (q**2.0/(ma-ω1(q)-ω2(q) +(1j)*epsilon))*fq*formf(q,Lambda)**4.0\n",
    "            return 2.0*np.pi*Integrand.imag\n",
    "\n",
    "        # Evaluate the real and imaginary parts of the integral separately\n",
    "        realpart = quad(RealInt, 0, np.inf, epsabs=1.49e-08, limit=100)\n",
    "        imagpart = quad(ImagInt, 0, np.inf, epsabs=1.49e-08, limit=100)\n",
    "        IReal_mc.append(realpart[0])\n",
    "        IImag_mc.append(imagpart[0])\n",
    "\n",
    "    IReal_mc = np.array(IReal_mc)\n",
    "    IImag_mc = np.array(IImag_mc)\n",
    "\n",
    "    # Output the modulus square of the integral\n",
    "    TS_amp = (IImag_mc**2.0 + IReal_mc**2.0)*(-2.0/(np.pi**2.0*8.0*m1*m2*m3))**2.0\n",
    "\n",
    "    return TS_amp"
   ]
  },
  {
   "cell_type": "markdown",
   "id": "5eef9f1e-020f-4736-a941-d0fae04d02ae",
   "metadata": {},
   "source": [
    "###  Add phase space and background\n",
    "\n",
    "We create a function ```dalitz()``` to generate the Dalitz plot in which the phase space shall be obtained."
   ]
  },
  {
   "cell_type": "code",
   "execution_count": null,
   "id": "3de6c338-a4cd-4efb-a224-9ee99df4cfc6",
   "metadata": {},
   "outputs": [],
   "source": [
    "def dalitz(x_data,ma,mb,mc1):\n",
    "    # mass of proton\n",
    "    mc2 = 938.27208816  \n",
    "    \n",
    "    N = len(x_data)\n",
    "\n",
    "    # Convert masses to GeV\n",
    "    ma = ma/1000\n",
    "    mc1 = mc1/1000\n",
    "    mb = mb/1000\n",
    "    mc2 = mc2/1000\n",
    "\n",
    "    # Dalitz plot axes\n",
    "    exp_xmin = 2\n",
    "    exp_xmax = 6.5\n",
    "    \n",
    "    m23sq = np.linspace(exp_xmin, exp_xmax, N)\n",
    "    m13sq = (x_data/1000)**2\n",
    "\n",
    "    # Construct Dalitz plot\n",
    "    E_1 = (np.full(N, ma)**2 + np.full(N, mc1)**2 - m23sq)/(2*np.full(N, ma))\n",
    "    E_2 = (np.full(N, ma)**2 + np.full(N, mb)**2 - m13sq)/(2*np.full(N, ma))\n",
    "    X, Y = np.meshgrid(E_1, E_2)\n",
    "\n",
    "    argument = 4*(X**2 - mc1**2)*(Y**2 - mb**2) - (ma**2 + mc1**2 + mb**2 - mc2**2 - 2*ma*(X + Y) + 2*X*Y)**2\n",
    "    E_3 = ma - X - Y\n",
    "    \n",
    "    plot = argument*E_3 >= 0\n",
    "    \n",
    "    return plot"
   ]
  },
  {
   "cell_type": "markdown",
   "id": "f7006814-6209-4490-b5f2-8affeec1f0b7",
   "metadata": {},
   "source": [
    "We also create a function ```polynom()``` to randomly generate an nth degree polynomial to be added as background."
   ]
  },
  {
   "cell_type": "code",
   "execution_count": null,
   "id": "fb5f7035-b201-4a39-a1fd-8d52c3171d8d",
   "metadata": {},
   "outputs": [],
   "source": [
    "def polynom(x):\n",
    "    # this is for a fifth degree polynomial\n",
    "    coeff = np.random.uniform(0, 5, 5)\n",
    "    total = np.sum([coeff[i]*(x**i) for i in range(len(coeff))], axis=0)\n",
    "    norm = np.linalg.norm([total])\n",
    "    poly_bg = total/norm\n",
    "    return poly_bg"
   ]
  },
  {
   "cell_type": "markdown",
   "id": "85174f75-319b-492a-951d-1aa2675d314d",
   "metadata": {},
   "source": [
    "Lastly, we combine everything to construct the final line shape using `gen_TSamplitude()` function. It will randomly generate an energy axis, obtain its total amplitude, take note of the parameters used, and output them all."
   ]
  },
  {
   "cell_type": "code",
   "execution_count": null,
   "id": "4bf0115c-2935-48d5-bf94-2cfe1e21493d",
   "metadata": {},
   "outputs": [],
   "source": [
    "def gen_TSamplitude(ma,mb,m1,m2,m3,mc1,Lambda,epsilon):\n",
    "\n",
    "    # Generate a random energy axis\n",
    "    x_data = gen_Eaxis()\n",
    "    x_data = np.array(x_data)\n",
    "    \n",
    "    # Calculate the phase space from the Dalitz plot\n",
    "    phase_space = dalitz(x_data,ma,mb,mc1)\n",
    "    \n",
    "    # Cut both axes to our region of interest\n",
    "    phase_space = phase_space[x_data < energy_high]\n",
    "    x_data = x_data[x_data < energy_high]\n",
    "    phase_space = phase_space[x_data >= energy_low]\n",
    "    x_data = x_data[x_data >= energy_low]\n",
    "    \n",
    "    # Calculate the TS amplitude\n",
    "    TS_amp = triangle(x_data,ma,mb,m1,m2,m3,Lambda,epsilon)\n",
    "    \n",
    "    # Combine the two with a polynomial bg \n",
    "    # Output the total line shape\n",
    "    poly_bg = polynom(x_data)\n",
    "    amplitude = np.rot90(phase_space)*(TS_amp/10**-12 + poly_bg)\n",
    "    amplitude = np.rot90(amplitude, k=3)\n",
    "    amplitude[np.where(phase_space==0)] = -1\n",
    "    amplitude += 1\n",
    "    amplitude = np.sum(amplitude, axis=1)\n",
    "    \n",
    "    # Output the energy axis\n",
    "    energy_axis = x_data\n",
    "    \n",
    "    # Output the parameters used\n",
    "    parameters = [ma,mb,m1,m2,m3,mc1,Lambda,epsilon]\n",
    "    \n",
    "    return amplitude, energy_axis, parameters"
   ]
  }
 ],
 "metadata": {
  "kernelspec": {
   "display_name": "Python 3 (ipykernel)",
   "language": "python",
   "name": "python3"
  },
  "language_info": {
   "codemirror_mode": {
    "name": "ipython",
    "version": 3
   },
   "file_extension": ".py",
   "mimetype": "text/x-python",
   "name": "python",
   "nbconvert_exporter": "python",
   "pygments_lexer": "ipython3",
   "version": "3.11.3"
  }
 },
 "nbformat": 4,
 "nbformat_minor": 5
}
