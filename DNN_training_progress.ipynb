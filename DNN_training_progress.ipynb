{
 "cells": [
  {
   "cell_type": "markdown",
   "metadata": {},
   "source": [
    "## Check training progress of DNN models\n",
    "\n",
    "During training, we use this notebook to monitor the progress and performance of the models."
   ]
  },
  {
   "cell_type": "code",
   "execution_count": null,
   "metadata": {},
   "outputs": [],
   "source": [
    "import os\n",
    "\n",
    "import chainer\n",
    "from chainer import configuration\n",
    "from chainer.dataset import convert\n",
    "import chainer.links as L\n",
    "import chainer.functions as F\n",
    "from chainer import serializers\n",
    "\n",
    "import math\n",
    "import numpy as np\n",
    "import cupy as cp\n",
    "import random\n",
    "\n",
    "import sklearn\n",
    "from sklearn.utils import shuffle\n",
    "import pickle\n",
    "\n",
    "import matplotlib.pyplot as plt\n",
    "from matplotlib.pyplot import figure\n",
    "\n",
    "import import_ipynb\n",
    "import multi_mod_compact\n",
    "from multi_mod_compact import num_models, directory, device\n",
    "from multi_mod_compact import model1, model2, model3, model4, model5, model6\n",
    "\n",
    "import pandas as pd"
   ]
  },
  {
   "cell_type": "code",
   "execution_count": null,
   "metadata": {},
   "outputs": [],
   "source": [
    "# Load the losses and accuracies for both the training and testing results\n",
    "\n",
    "for modndx in range(num_models):\n",
    "    exec('training_accu{}=pickle.load(open(os.path.join(directory,\"training_accu{}.pkl\"),\"rb\"))'.format(modndx+1,modndx+1))\n",
    "    exec('testing_accu{}=pickle.load(open(os.path.join(directory,\"testing_accu{}.pkl\"),\"rb\"))'.format(modndx+1,modndx+1))\n",
    "    exec('training_loss{}=pickle.load(open(os.path.join(directory,\"training_loss{}.pkl\"),\"rb\"))'.format(modndx+1,modndx+1))\n",
    "    exec('testing_loss{}=pickle.load(open(os.path.join(directory,\"testing_loss{}.pkl\"),\"rb\"))'.format(modndx+1,modndx+1)) \n",
    "print('last epoch:', len(training_accu1))"
   ]
  },
  {
   "cell_type": "code",
   "execution_count": null,
   "metadata": {},
   "outputs": [],
   "source": [
    "# Print the final epoch's training and testing accuracies\n",
    "\n",
    "print('MPL1 train_accu:{:.06f}'.format(float(training_accu1[len(training_accu1)-1])), '  MPL1 test_accu:{:.06f}'.format(float(testing_accu1[len(testing_accu1)-1])))\n",
    "print('MPL2 train_accu:{:.06f}'.format(float(training_accu2[len(training_accu2)-1])), '  MPL2 test_accu:{:.06f}'.format(float(testing_accu2[len(testing_accu2)-1])))\n",
    "print('MPL3 train_accu:{:.06f}'.format(float(training_accu3[len(training_accu3)-1])), '  MPL3 test_accu:{:.06f}'.format(float(testing_accu3[len(testing_accu3)-1])))\n",
    "print('MPL4 train_accu:{:.06f}'.format(float(training_accu4[len(training_accu4)-1])), '  MPL4 test_accu:{:.06f}'.format(float(testing_accu4[len(testing_accu4)-1])))\n",
    "print('MPL5 train_accu:{:.06f}'.format(float(training_accu5[len(training_accu5)-1])), '  MPL5 test_accu:{:.06f}'.format(float(testing_accu5[len(testing_accu5)-1])))\n",
    "print('MPL6 train_accu:{:.06f}'.format(float(training_accu6[len(training_accu6)-1])), '  MPL6 test_accu:{:.06f}'.format(float(testing_accu6[len(testing_accu6)-1])))"
   ]
  },
  {
   "cell_type": "markdown",
   "metadata": {},
   "source": [
    "### Plot training progress\n",
    "\n",
    "The training performance of each model is shown below. The DNN models are described by the type of optimizers used and their architectures, written above each plot. Blue is training and orange is for testing."
   ]
  },
  {
   "cell_type": "code",
   "execution_count": null,
   "metadata": {},
   "outputs": [],
   "source": [
    "#%matplotlib qt\n",
    "#%matplotlib inline\n",
    "\n",
    "min_y = 0.50\n",
    "max_y = 1.05\n",
    "font_set_size = 25\n",
    "font_set_size2 = 25\n",
    "fig = plt.figure()\n",
    "                         \n",
    "# For Adam optimizer\n",
    "plt.subplot(231).set_ylim(min_y,max_y)\n",
    "test = plt.plot(cp.asarray(testing_accu1).tolist(),'orange')\n",
    "train = plt.plot(cp.asarray(training_accu1).tolist(),'blue')\n",
    "plt.title('AdaGrad: 150-[250-100]-4',fontsize=font_set_size)\n",
    "plt.yticks(fontsize=font_set_size)\n",
    "plt.xticks(fontsize=0)\n",
    "plt.grid(True)\n",
    "\n",
    "plt.subplot(232).set_ylim(min_y,max_y)\n",
    "test = plt.plot(cp.asarray(testing_accu2).tolist(),'orange')\n",
    "train = plt.plot(cp.asarray(training_accu2).tolist(),'blue')\n",
    "plt.title('AdaGrad: 150-[250-100-50]-4',fontsize=font_set_size)\n",
    "plt.yticks(fontsize=0)\n",
    "plt.xticks(fontsize=0)\n",
    "plt.grid(True)\n",
    "\n",
    "plt.subplot(233).set_ylim(min_y,max_y)\n",
    "test = plt.plot(cp.asarray(testing_accu3).tolist(),'orange')\n",
    "train = plt.plot(cp.asarray(training_accu3).tolist(),'blue')\n",
    "plt.title('AdaGrad: 150-[250-250-250]-4',fontsize=font_set_size)\n",
    "plt.yticks(fontsize=0)\n",
    "plt.xticks(fontsize=0)\n",
    "plt.grid(True)\n",
    "\n",
    "# For AMSGrad Optimizer\n",
    "plt.subplot(234).set_ylim(min_y,max_y)\n",
    "test = plt.plot(cp.asarray(testing_accu4).tolist(),'orange')\n",
    "train = plt.plot(cp.asarray(training_accu4).tolist(),'blue')\n",
    "plt.title('AMSGrad: 150-[250-100]-4',fontsize=font_set_size)\n",
    "plt.yticks(fontsize=font_set_size)\n",
    "plt.xticks(fontsize=font_set_size2)\n",
    "plt.grid(True)\n",
    "\n",
    "plt.subplot(235).set_ylim(min_y,max_y)\n",
    "test = plt.plot(cp.asarray(testing_accu5).tolist(),'orange')\n",
    "train = plt.plot(cp.asarray(training_accu5).tolist(),'blue')\n",
    "plt.title('AMSGrad: 150-[250-100-50]-4',fontsize=font_set_size)\n",
    "plt.yticks(fontsize=0)\n",
    "plt.xticks(fontsize=font_set_size2)\n",
    "plt.grid(True)\n",
    "\n",
    "plt.subplot(236).set_ylim(min_y,max_y)\n",
    "test = plt.plot(cp.asarray(testing_accu6).tolist(),'orange')\n",
    "train = plt.plot(cp.asarray(training_accu6).tolist(),'blue')\n",
    "plt.title('AMSGrad: 150-[250-250-250]-4',fontsize=font_set_size)\n",
    "plt.yticks(fontsize=0)\n",
    "plt.xticks(fontsize=font_set_size2)\n",
    "plt.grid(True)\n",
    "\n",
    "plt.subplots_adjust(top=2.00, bottom=0.1, left=0.10, right=3.00, hspace=0.2, wspace=0.05)\n",
    "fig.supxlabel('Training Epoch', fontsize=font_set_size)\n",
    "fig.supylabel('Accuracy', fontsize=font_set_size)\n",
    "\n",
    "plt.show()"
   ]
  }
 ],
 "metadata": {
  "kernelspec": {
   "display_name": "Python 3 (ipykernel)",
   "language": "python",
   "name": "python3"
  },
  "language_info": {
   "codemirror_mode": {
    "name": "ipython",
    "version": 3
   },
   "file_extension": ".py",
   "mimetype": "text/x-python",
   "name": "python",
   "nbconvert_exporter": "python",
   "pygments_lexer": "ipython3",
   "version": "3.11.3"
  }
 },
 "nbformat": 4,
 "nbformat_minor": 4
}
