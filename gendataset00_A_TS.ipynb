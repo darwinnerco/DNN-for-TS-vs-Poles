{
 "cells": [
  {
   "cell_type": "markdown",
   "id": "1d12d0b7-7ca1-459f-9cca-2f20dd0c3433",
   "metadata": {},
   "source": [
    "## Generation of Dataset for Triangle Singularity (00) - Loop A\n",
    "\n",
    "Run this notebook to generate multiple line shapes for TS using different combinations of parameter values."
   ]
  },
  {
   "cell_type": "code",
   "execution_count": null,
   "id": "d3b396b3-5f47-4a1e-a0e1-fb46bcef3b04",
   "metadata": {},
   "outputs": [],
   "source": [
    "import numpy as np\n",
    "import cmath as cm\n",
    "import random\n",
    "import itertools\n",
    "import pickle\n",
    "import os\n",
    "\n",
    "import matplotlib.pyplot as plt\n",
    "from matplotlib.pyplot import figure\n",
    "from matplotlib.ticker import (MultipleLocator, AutoMinorLocator)\n",
    "from tabulate import tabulate\n",
    "\n",
    "from scipy.integrate import quad\n",
    "\n",
    "# Import the module containing the TS functions\n",
    "import import_ipynb\n",
    "import module_Triangles\n",
    "from module_Triangles import gen_Eaxis, gen_TSamplitude\n",
    "from module_Triangles import energy_low, energy_high\n",
    "from module_Triangles import invmass, weighted_candidates, upper_err\n",
    "\n",
    "# Create directory to store datasets\n",
    "directory = 'Datasets'\n",
    "if not os.path.isdir(directory):\n",
    "    os.makedirs(directory)\n",
    "out = directory"
   ]
  },
  {
   "attachments": {},
   "cell_type": "markdown",
   "id": "c59c11b5-15bd-4f8d-ba0f-3aaaccb7bc54",
   "metadata": {},
   "source": [
    "### Define Parameters\n",
    "\n",
    "We want to calculate the amplitude arising from the following triangle loop mechanism:"
   ]
  },
  {
   "cell_type": "markdown",
   "id": "47136908-b2c9-4ec2-bba7-bc28b4a659dd",
   "metadata": {},
   "source": [
    "<img src=\"TSLoop1.png\" width=\"500\"/>"
   ]
  },
  {
   "cell_type": "markdown",
   "id": "a524b0d7-15f8-4751-adbf-54b9f9cb737f",
   "metadata": {},
   "source": [
    "The parameters include the hadron masses, the cut-off parameter, and decay width. We use the following range of values:\n",
    "$$m_a (\\Lambda_b^0) = 5619.60 \\pm 0.17\\; MeV$$\n",
    "$$m_b (K^-) = 493.677 \\pm 0.016\\; MeV$$\n",
    "$$m_1 (D_{s}^{**}) = [3209.80, 3315.00]\\; MeV$$\n",
    "$$m_2 (\\Lambda_c^+) = 2286.46 \\pm 0.14\\; MeV$$\n",
    "$$m_3 (\\bar{D}^{*0}) = 2006.85 \\pm 0.05\\; MeV$$\n",
    "$$m_{c_1} (J/\\psi) = 3096.9 \\pm 0.006\\; MeV$$\n",
    "$$\\Lambda = [2000.0,2500.0]\\; MeV$$\n",
    "$$\\epsilon = [1.0,10.0]\\; MeV$$\n",
    "Source: https://pdglive.lbl.gov/"
   ]
  },
  {
   "cell_type": "code",
   "execution_count": null,
   "id": "31fbb371-2162-434e-a1e4-25acb5b9b7bf",
   "metadata": {},
   "outputs": [],
   "source": [
    "# Define the parameters ranges\n",
    "\n",
    "ma_range = np.arange(5619.43,5619.78,0.01)\n",
    "mb_range = np.arange(493.661,493.694,0.001)\n",
    "m1_range = np.arange(3209.80,3315.00,0.1)\n",
    "m2_range = np.arange(2286.32,2286.61,0.01)\n",
    "m3_range = np.arange(2006.80,2006.91,0.01)\n",
    "mc1_range = np.arange(3096.894,3096.907,0.001)\n",
    "Lambda_range = np.arange(2000,2501,1)\n",
    "epsilon_range = np.arange(1.0,10.1,0.1)"
   ]
  },
  {
   "cell_type": "markdown",
   "id": "97886a87-1f18-4d99-b506-6d840ee9d3c9",
   "metadata": {},
   "source": [
    "We randomly select a few values for each of the parameters. We use ```k``` below to assign the number of values to select for each parameter. The total number of generated line shapes `TotalN` equals the combination of all of the parameters values (product of all `k`'s). You may run the following cell multiple times until the random selection of parameter values is satisfactory."
   ]
  },
  {
   "cell_type": "code",
   "execution_count": null,
   "id": "600dc1a8-4be0-461a-b319-d72db425e1a8",
   "metadata": {},
   "outputs": [],
   "source": [
    "ma_vals = random.choices(ma_range, k=1)\n",
    "mb_vals = random.choices(mb_range, k=1)\n",
    "m1_vals = random.choices(m1_range, k=10)\n",
    "m2_vals = random.choices(m2_range, k=5)\n",
    "m3_vals = random.choices(m3_range, k=2)\n",
    "mc1_vals = random.choices(mc1_range, k=1)\n",
    "epsilon_vals = random.choices(epsilon_range, k=10)\n",
    "Lambda_vals = random.choices(Lambda_range, k=5)\n",
    "\n",
    "# For training set\n",
    "TotalN = 1*1*10*5*2*1*10*5\n",
    "\n",
    "# Vary the k's for testing/validation set\n",
    "# For testing/validation set\n",
    "# TotalN = 1*1*8*1*1*1*5*4\n",
    "\n",
    "# Check the randomly chosen set of parameter values\n",
    "print(\"Total data to be generated: \"+str(TotalN))\n",
    "table = [['ma:', ma_vals], ['mb:', mb_vals], ['m1:', m1_vals], ['m2:', m2_vals], \n",
    "         ['m3:', m3_vals], ['mc1:', mc1_vals], ['epsilon:', epsilon_vals], ['Lambda:', Lambda_vals]]\n",
    "print(tabulate(table))"
   ]
  },
  {
   "cell_type": "markdown",
   "id": "f5d2d9f9-7cdd-477b-858b-ff18ac79026d",
   "metadata": {},
   "source": [
    "### Generate Dataset"
   ]
  },
  {
   "cell_type": "markdown",
   "id": "bebcebe1-004c-40be-9108-649de9eb7934",
   "metadata": {},
   "source": [
    "Let us now allow the computer to generate the dataset. This is where we have to wait."
   ]
  },
  {
   "cell_type": "code",
   "execution_count": null,
   "id": "31788022-9881-41a7-a54f-e6fad54a24b8",
   "metadata": {
    "scrolled": true
   },
   "outputs": [],
   "source": [
    "# Create arrays to store the generated intensity axis, energy axis, and parameter info\n",
    "TSdata_amps = []\n",
    "TSdata_energy = []\n",
    "TSdata_info = []\n",
    "\n",
    "# Generate the dataset\n",
    "# Iterate through all combinations of the parameters\n",
    "counter = 1\n",
    "for a,b,p,q,r,s,u,v in itertools.product(ma_vals,mb_vals,m1_vals,m2_vals,m3_vals,mc1_vals,Lambda_vals,epsilon_vals):\n",
    "    # Use the `gen_TSamplitude` function from previous notebook to generate the line shape\n",
    "    TSdata = gen_TSamplitude(a,b,p,q,r,s,u,v)\n",
    "\n",
    "    TSdata_amps.append(TSdata[0])\n",
    "    TSdata_energy.append(TSdata[1])\n",
    "    TSdata_info.append(TSdata[2])\n",
    "\n",
    "    # Print a counter to keep track of progress\n",
    "    if counter < 10 or counter % 10 == 0:\n",
    "        print('Generated ' +str(counter)+ ' of '+str(TotalN))\n",
    "    counter = counter +1\n",
    "\n",
    "print('Done generating!')"
   ]
  },
  {
   "cell_type": "markdown",
   "id": "a959fff1-5fb5-464a-af19-cb5ac59d6c86",
   "metadata": {},
   "source": [
    "### Inspect and Export\n",
    "\n",
    "Plot the generated line shapes and inspect validity of dataset."
   ]
  },
  {
   "cell_type": "code",
   "execution_count": null,
   "id": "4fa265e7-a535-47f8-9406-1f7e5f5b6ad6",
   "metadata": {},
   "outputs": [],
   "source": [
    "# Randomly select one line shape from the generated dataset\n",
    "indx = random.sample(range(len(TSdata_amps)), 1)[0]\n",
    "\n",
    "# Plot line shape\n",
    "fig, ax = plt.subplots(figsize=(8, 5))\n",
    "ax.plot(TSdata_energy[indx], TSdata_amps[indx], label = \"Data # \"+str(indx), linewidth = 2)\n",
    "ax.errorbar(invmass, weighted_candidates, yerr = upper_err, fmt = 'o', \n",
    "            ecolor = \"k\", color = \"k\", elinewidth = 1, markersize = 3.5, label = \"LHCb data\")\n",
    "\n",
    "ax.set_xticks(np.arange(4200,4351,50))\n",
    "ax.set_yticks(np.arange(400,801,100))\n",
    "ax.xaxis.set_minor_locator(MultipleLocator(10))\n",
    "ax.tick_params(axis='both', which='major', labelsize=15)\n",
    "ax.set_xlabel('$m_{\\,J/\\psi\\,p}$ [MeV]', fontsize = 15, labelpad=8)\n",
    "ax.set_ylabel('Weighted Candidates/(2 MeV)', fontsize = 15, labelpad=10)\n",
    "ax.margins(x=0)\n",
    "ax.grid(True, linestyle='--')\n",
    "ax.legend(loc = 'upper left', fontsize = 12)\n",
    "ax.set_xlim([4200,4350])\n",
    "ax.set_ylim([400, 850])\n",
    "\n",
    "plt.show()\n",
    "\n",
    "# Print the parameters used for the particular line shape\n",
    "pars1 = TSdata_info[indx]\n",
    "table = [[\"Peak at (MeV)\",\"ma\",\"mb\",\"m1\",\"m2\",\"m3\",\"mc1\",\"Lambda\",\"epsilon\"], \n",
    "         [TSdata_energy[indx][np.argmax(TSdata_amps[indx])], pars1[0], pars1[1], pars1[2], pars1[3], pars1[4], pars1[5], pars1[6], pars1[7]]]\n",
    "\n",
    "print(\"Data #\"+str(indx)+\" parameters:\")\n",
    "print(tabulate(table, headers=\"firstrow\"))"
   ]
  },
  {
   "cell_type": "markdown",
   "id": "4527667f-9783-414d-b675-56d6e1e3031a",
   "metadata": {},
   "source": [
    "Once everything is satisfactory, export the dataset."
   ]
  },
  {
   "cell_type": "code",
   "execution_count": null,
   "id": "97e71da1-9f16-458c-a240-4f6b0315069e",
   "metadata": {},
   "outputs": [],
   "source": [
    "# Create array for labels (as output in DNN)\n",
    "TSoutputs = np.zeros(len(TSdata_amps))\n",
    "\n",
    "# Convert arrays\n",
    "TSdata_amps = np.array(TSdata_amps)\n",
    "TSdata_energy = np.array(TSdata_energy)\n",
    "TSdata_info = np.array(TSdata_info)\n",
    "\n",
    "# Concatenate energy axis and intensity axis (as input in DNN)\n",
    "TSinputs = np.concatenate((TSdata_energy,TSdata_amps),axis=1)\n",
    "\n",
    "# Export dataset to directory\n",
    "pickle.dump(TSdata_amps, open(os.path.join(out,'T00Adata_amps_train.pkl'),'wb'), protocol=4)\n",
    "pickle.dump(TSdata_energy, open(os.path.join(out,'T00Adata_energy_train.pkl'),'wb'), protocol=4)\n",
    "pickle.dump(TSinputs, open(os.path.join(out,'T00Ainputs_train.pkl'),'wb'), protocol=4)\n",
    "pickle.dump(TSoutputs, open(os.path.join(out,'T00Aoutputs_train.pkl'),'wb'), protocol=4)\n",
    "#pickle.dump(TSdata_info, open(os.path.join(out,'T00Adata_info_train.pkl'),'wb'), protocol=4)\n",
    "\n",
    "print('Done exporting!')"
   ]
  }
 ],
 "metadata": {
  "kernelspec": {
   "display_name": "Python 3 (ipykernel)",
   "language": "python",
   "name": "python3"
  },
  "language_info": {
   "codemirror_mode": {
    "name": "ipython",
    "version": 3
   },
   "file_extension": ".py",
   "mimetype": "text/x-python",
   "name": "python",
   "nbconvert_exporter": "python",
   "pygments_lexer": "ipython3",
   "version": "3.11.3"
  }
 },
 "nbformat": 4,
 "nbformat_minor": 5
}
